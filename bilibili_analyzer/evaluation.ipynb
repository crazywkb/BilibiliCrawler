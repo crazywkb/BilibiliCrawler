{
 "cells": [
  {
   "cell_type": "code",
   "execution_count": 123,
   "metadata": {},
   "outputs": [],
   "source": [
    "def evaluate_association_rules(association_rules,test_datas):\n",
    "    \"\"\"\n",
    "    Parameters：\n",
    "        association_rules：要评估的关联规则（推荐规则） list((rule_a,rule_b))\n",
    "        test_data：测试用的数据集 dataframe\n",
    "\n",
    "    Returns：\n",
    "        关联规则（推荐规则）在测试集上的评分（百分比）\n",
    "    \"\"\"\n",
    "    point_sum = 0\n",
    "    miss = 0\n",
    "    for rule_a,rule_b in association_rules:\n",
    "        set_rule_a = set(rule_a)\n",
    "        set_rule_b = set(rule_b)\n",
    "        \n",
    "        num_a = 0\n",
    "        num_b = 0\n",
    "        \n",
    "        for test_data in test_datas.value:\n",
    "            set_test_data = set(test_data)\n",
    "            if set_rule_a.issubset(set_test_data):\n",
    "                num_a += 1\n",
    "                if set_rule_b.issubset(set_test_data):\n",
    "                    num_b += 1\n",
    "        if num_a:\n",
    "            point_sum += num_b / num_a\n",
    "        else:\n",
    "            miss += 1\n",
    "    print(miss,' rules miss')\n",
    "    return point_sum / len(association_rules)\n",
    "    "
   ]
  },
  {
   "cell_type": "markdown",
   "metadata": {},
   "source": [
    "### 函数测试"
   ]
  },
  {
   "cell_type": "code",
   "execution_count": 125,
   "metadata": {},
   "outputs": [],
   "source": [
    "# 导入所需模块\n",
    "import pandas as pd\n",
    "import numpy as np\n",
    "import json\n",
    "import fp_growth_py3 as fpg\n",
    "import matplotlib.pyplot as plt\n",
    "import pylab as pl\n",
    "from collections import defaultdict"
   ]
  },
  {
   "cell_type": "code",
   "execution_count": 126,
   "metadata": {},
   "outputs": [],
   "source": [
    "# 读入测试数据集\n",
    "filepath='./test_data/user_following_animation.json'\n",
    "data=pd.read_json(filepath,lines=True)"
   ]
  },
  {
   "cell_type": "markdown",
   "metadata": {},
   "source": [
    "将测试数据集 划分为training_data与evaluate_data两部分，占比可调"
   ]
  },
  {
   "cell_type": "code",
   "execution_count": 127,
   "metadata": {},
   "outputs": [],
   "source": [
    "training_data = data.sample(n=None, frac=0.9, replace=False, weights=None, random_state=None, axis=None)"
   ]
  },
  {
   "cell_type": "code",
   "execution_count": 128,
   "metadata": {},
   "outputs": [
    {
     "name": "stdout",
     "output_type": "stream",
     "text": [
      "9305\n"
     ]
    },
    {
     "data": {
      "text/html": [
       "<div>\n",
       "<style scoped>\n",
       "    .dataframe tbody tr th:only-of-type {\n",
       "        vertical-align: middle;\n",
       "    }\n",
       "\n",
       "    .dataframe tbody tr th {\n",
       "        vertical-align: top;\n",
       "    }\n",
       "\n",
       "    .dataframe thead th {\n",
       "        text-align: right;\n",
       "    }\n",
       "</style>\n",
       "<table border=\"1\" class=\"dataframe\">\n",
       "  <thead>\n",
       "    <tr style=\"text-align: right;\">\n",
       "      <th></th>\n",
       "      <th>db</th>\n",
       "      <th>key</th>\n",
       "      <th>size</th>\n",
       "      <th>ttl</th>\n",
       "      <th>type</th>\n",
       "      <th>value</th>\n",
       "    </tr>\n",
       "  </thead>\n",
       "  <tbody>\n",
       "    <tr>\n",
       "      <th>2746</th>\n",
       "      <td>7</td>\n",
       "      <td>60058</td>\n",
       "      <td>6</td>\n",
       "      <td>-1</td>\n",
       "      <td>set</td>\n",
       "      <td>[139332]</td>\n",
       "    </tr>\n",
       "    <tr>\n",
       "      <th>2513</th>\n",
       "      <td>7</td>\n",
       "      <td>60289211</td>\n",
       "      <td>139</td>\n",
       "      <td>-1</td>\n",
       "      <td>set</td>\n",
       "      <td>[1700, 2069, 2543, 2576, 2649, 3042, 3863, 505...</td>\n",
       "    </tr>\n",
       "    <tr>\n",
       "      <th>6144</th>\n",
       "      <td>7</td>\n",
       "      <td>233059693</td>\n",
       "      <td>5</td>\n",
       "      <td>-1</td>\n",
       "      <td>set</td>\n",
       "      <td>[23432]</td>\n",
       "    </tr>\n",
       "    <tr>\n",
       "      <th>1153</th>\n",
       "      <td>7</td>\n",
       "      <td>3800384</td>\n",
       "      <td>16</td>\n",
       "      <td>-1</td>\n",
       "      <td>set</td>\n",
       "      <td>[5473, 5978, 6433, 8752]</td>\n",
       "    </tr>\n",
       "    <tr>\n",
       "      <th>3359</th>\n",
       "      <td>7</td>\n",
       "      <td>144956830</td>\n",
       "      <td>48</td>\n",
       "      <td>-1</td>\n",
       "      <td>set</td>\n",
       "      <td>[1733, 2572, 3365, 6360, 7452, 8752, 25732, 10...</td>\n",
       "    </tr>\n",
       "  </tbody>\n",
       "</table>\n",
       "</div>"
      ],
      "text/plain": [
       "      db        key  size  ttl type  \\\n",
       "2746   7      60058     6   -1  set   \n",
       "2513   7   60289211   139   -1  set   \n",
       "6144   7  233059693     5   -1  set   \n",
       "1153   7    3800384    16   -1  set   \n",
       "3359   7  144956830    48   -1  set   \n",
       "\n",
       "                                                  value  \n",
       "2746                                           [139332]  \n",
       "2513  [1700, 2069, 2543, 2576, 2649, 3042, 3863, 505...  \n",
       "6144                                            [23432]  \n",
       "1153                           [5473, 5978, 6433, 8752]  \n",
       "3359  [1733, 2572, 3365, 6360, 7452, 8752, 25732, 10...  "
      ]
     },
     "execution_count": 128,
     "metadata": {},
     "output_type": "execute_result"
    }
   ],
   "source": [
    "print(len(training_data))\n",
    "training_data.head()"
   ]
  },
  {
   "cell_type": "code",
   "execution_count": 129,
   "metadata": {},
   "outputs": [],
   "source": [
    "evaluate_data = data.drop([x for x in training_data.index])"
   ]
  },
  {
   "cell_type": "code",
   "execution_count": 130,
   "metadata": {},
   "outputs": [
    {
     "name": "stdout",
     "output_type": "stream",
     "text": [
      "1034\n"
     ]
    },
    {
     "data": {
      "text/html": [
       "<div>\n",
       "<style scoped>\n",
       "    .dataframe tbody tr th:only-of-type {\n",
       "        vertical-align: middle;\n",
       "    }\n",
       "\n",
       "    .dataframe tbody tr th {\n",
       "        vertical-align: top;\n",
       "    }\n",
       "\n",
       "    .dataframe thead th {\n",
       "        text-align: right;\n",
       "    }\n",
       "</style>\n",
       "<table border=\"1\" class=\"dataframe\">\n",
       "  <thead>\n",
       "    <tr style=\"text-align: right;\">\n",
       "      <th></th>\n",
       "      <th>db</th>\n",
       "      <th>key</th>\n",
       "      <th>size</th>\n",
       "      <th>ttl</th>\n",
       "      <th>type</th>\n",
       "      <th>value</th>\n",
       "    </tr>\n",
       "  </thead>\n",
       "  <tbody>\n",
       "    <tr>\n",
       "      <th>5</th>\n",
       "      <td>7</td>\n",
       "      <td>175812420</td>\n",
       "      <td>33</td>\n",
       "      <td>-1</td>\n",
       "      <td>set</td>\n",
       "      <td>[1407, 5739, 6352, 6360, 6652, 12872, 11651971]</td>\n",
       "    </tr>\n",
       "    <tr>\n",
       "      <th>7</th>\n",
       "      <td>7</td>\n",
       "      <td>3801571</td>\n",
       "      <td>427</td>\n",
       "      <td>-1</td>\n",
       "      <td>set</td>\n",
       "      <td>[297, 311, 522, 616, 643, 685, 761, 762, 763, ...</td>\n",
       "    </tr>\n",
       "    <tr>\n",
       "      <th>9</th>\n",
       "      <td>7</td>\n",
       "      <td>2265619</td>\n",
       "      <td>304</td>\n",
       "      <td>-1</td>\n",
       "      <td>set</td>\n",
       "      <td>[53, 207, 297, 969, 1382, 1407, 1463, 1523, 16...</td>\n",
       "    </tr>\n",
       "    <tr>\n",
       "      <th>11</th>\n",
       "      <td>7</td>\n",
       "      <td>36562891</td>\n",
       "      <td>20</td>\n",
       "      <td>-1</td>\n",
       "      <td>set</td>\n",
       "      <td>[1586, 2543, 3287, 3461, 5997]</td>\n",
       "    </tr>\n",
       "    <tr>\n",
       "      <th>24</th>\n",
       "      <td>7</td>\n",
       "      <td>38115290</td>\n",
       "      <td>409</td>\n",
       "      <td>-1</td>\n",
       "      <td>set</td>\n",
       "      <td>[2580, 2760, 5786, 5849, 5856, 6360, 6434, 657...</td>\n",
       "    </tr>\n",
       "  </tbody>\n",
       "</table>\n",
       "</div>"
      ],
      "text/plain": [
       "    db        key  size  ttl type  \\\n",
       "5    7  175812420    33   -1  set   \n",
       "7    7    3801571   427   -1  set   \n",
       "9    7    2265619   304   -1  set   \n",
       "11   7   36562891    20   -1  set   \n",
       "24   7   38115290   409   -1  set   \n",
       "\n",
       "                                                value  \n",
       "5     [1407, 5739, 6352, 6360, 6652, 12872, 11651971]  \n",
       "7   [297, 311, 522, 616, 643, 685, 761, 762, 763, ...  \n",
       "9   [53, 207, 297, 969, 1382, 1407, 1463, 1523, 16...  \n",
       "11                     [1586, 2543, 3287, 3461, 5997]  \n",
       "24  [2580, 2760, 5786, 5849, 5856, 6360, 6434, 657...  "
      ]
     },
     "execution_count": 130,
     "metadata": {},
     "output_type": "execute_result"
    }
   ],
   "source": [
    "print(len(evaluate_data))\n",
    "evaluate_data.head()"
   ]
  },
  {
   "cell_type": "markdown",
   "metadata": {},
   "source": [
    "用training_data进行训练，导出关联规则（推荐规则）\n",
    "\n",
    "注：这里只是用置信度进行了排名，因为只是对评估函数进行测试，所以没有加入更多的排名方法。"
   ]
  },
  {
   "cell_type": "code",
   "execution_count": 131,
   "metadata": {},
   "outputs": [
    {
     "name": "stdout",
     "output_type": "stream",
     "text": [
      "<class 'generator'>\n",
      "-------------挖掘频繁项集---------------\n",
      "                           fluent_patterns   support\n",
      "0                                   [5852]  0.195271\n",
      "1                           [102392, 5852]  0.094143\n",
      "2                           [139252, 5852]  0.079097\n",
      "3                   [102392, 139252, 5852]  0.050296\n",
      "4                          [5267730, 5852]  0.072327\n",
      "5                  [139252, 5267730, 5852]  0.052767\n",
      "6                             [3450, 5852]  0.069855\n",
      "7                           [130412, 5852]  0.070930\n",
      "8                             [5997, 5852]  0.069425\n",
      "9                             [3461, 5852]  0.066953\n",
      "10                            [8892, 5852]  0.087157\n",
      "11                    [102392, 8892, 5852]  0.055132\n",
      "12                    [139252, 8892, 5852]  0.050833\n",
      "13                         [4312482, 5852]  0.060183\n",
      "14                                  [2543]  0.195056\n",
      "15                            [5852, 2543]  0.081032\n",
      "16                          [139252, 2543]  0.084256\n",
      "17                  [102392, 139252, 2543]  0.051693\n",
      "18                          [130412, 2543]  0.071789\n",
      "19                  [139252, 130412, 2543]  0.051263\n",
      "20                            [5997, 2543]  0.067813\n",
      "21                            [3450, 2543]  0.057603\n",
      "22                            [3461, 2543]  0.064374\n",
      "23                          [102392, 2543]  0.093606\n",
      "24                            [8892, 2543]  0.087802\n",
      "25                    [102392, 8892, 2543]  0.053735\n",
      "26                    [139252, 8892, 2543]  0.054272\n",
      "27                   [5267730, 8892, 2543]  0.052982\n",
      "28                         [4312482, 2543]  0.061257\n",
      "29                         [5267730, 2543]  0.082321\n",
      "...                                    ...       ...\n",
      "1650                                [1540]  0.053842\n",
      "1651                                [5045]  0.053520\n",
      "1652                                [2660]  0.053197\n",
      "1653                            [21971025]  0.067168\n",
      "1654                               [11932]  0.069318\n",
      "1655                                [5070]  0.074046\n",
      "1656                            [21986963]  0.099516\n",
      "1657                    [139252, 21986963]  0.068780\n",
      "1658                   [5267730, 21986963]  0.078452\n",
      "1659           [139252, 5267730, 21986963]  0.061472\n",
      "1660                   [4312482, 21986963]  0.054272\n",
      "1661                   [4316382, 21986963]  0.069962\n",
      "1662           [139252, 4316382, 21986963]  0.055454\n",
      "1663          [5267730, 4316382, 21986963]  0.063084\n",
      "1664  [139252, 5267730, 4316382, 21986963]  0.052015\n",
      "1665                    [134932, 21986963]  0.052982\n",
      "1666                  [22718131, 21986963]  0.058571\n",
      "1667                   [4316442, 21986963]  0.052767\n",
      "1668                   [4316482, 21986963]  0.067061\n",
      "1669           [139252, 4316482, 21986963]  0.051155\n",
      "1670          [5267730, 4316482, 21986963]  0.054809\n",
      "1671          [4316382, 4316482, 21986963]  0.050403\n",
      "1672                  [22503880, 21986963]  0.057603\n",
      "1673                      [8892, 21986963]  0.055132\n",
      "1674                    [130412, 21986963]  0.058678\n",
      "1675           [5267730, 130412, 21986963]  0.051908\n",
      "1676                    [134912, 21986963]  0.050403\n",
      "1677                                [7312]  0.051800\n",
      "1678                               [79312]  0.056529\n",
      "1679                                [1553]  0.050725\n",
      "\n",
      "[1680 rows x 2 columns]\n",
      "                                  rules_a            rules_b  confidence\n",
      "0             (4316382, 139252, 21986963)          (5267730)    0.937984\n",
      "1              (4316382, 139252, 4316442)          (5267730)    0.935201\n",
      "2              (4316382, 134912, 4316482)          (5267730)    0.926829\n",
      "3                      (4316382, 4762714)          (5267730)    0.926441\n",
      "4             (4316382, 4762754, 4316482)          (5267730)    0.923650\n",
      "5             (4316382, 139252, 22718131)          (5267730)    0.921847\n",
      "6        (4316382, 139252, 4316482, 8892)          (5267730)    0.921348\n",
      "7      (130412, 139252, 4316482, 4316382)          (5267730)    0.917785\n",
      "8             (4316382, 139252, 22503880)          (5267730)    0.917279\n",
      "9             (4316382, 5267750, 4312482)          (5267730)    0.915851\n",
      "10             (4316382, 139252, 5267750)          (5267730)    0.915398\n",
      "11     (130412, 5267730, 134912, 4316482)           (139252)    0.913725\n",
      "12      (4316382, 5267730, 4316482, 8892)           (139252)    0.911111\n",
      "13             (130412, 4312482, 4316382)          (5267730)    0.909747\n",
      "14             (4316382, 4762754, 134912)          (5267730)    0.908560\n",
      "15               (4316382, 4762754, 8892)          (5267730)    0.908560\n",
      "16             (4316382, 139252, 4762754)          (5267730)    0.907994\n",
      "17       (130412, 5267730, 4316482, 8892)           (139252)    0.907895\n",
      "18               (4316382, 4316482, 8892)          (5267730)    0.907563\n",
      "19             (4316382, 134912, 4316482)           (139252)    0.906191\n",
      "20           (4316382, 22503880, 4316482)          (5267730)    0.905405\n",
      "21             (4316382, 139252, 4316482)          (5267730)    0.904822\n",
      "22             (102252, 5267730, 4316482)           (139252)    0.904587\n",
      "23            (4316382, 4312482, 4316482)          (5267730)    0.904348\n",
      "24    (130412, 5267730, 4316482, 4316382)           (139252)    0.904132\n",
      "25                     (4316382, 5267750)          (5267730)    0.903005\n",
      "26                (4316382, 8932, 139252)          (5267730)    0.902482\n",
      "27               (4316382, 4312482, 8892)          (5267730)    0.902072\n",
      "28             (5267730, 134912, 4316482)           (139252)    0.901961\n",
      "29                    (4316382, 21986963)          (5267730)    0.901690\n",
      "...                                   ...                ...         ...\n",
      "1576          (4316382, 5267730, 4316482)          (4762754)    0.603406\n",
      "1577                     (102792, 139252)           (130412)    0.603297\n",
      "1578                   (5267730, 4762754)  (130412, 4316382)    0.603230\n",
      "1579                      (5267730, 8892)           (130412)    0.603127\n",
      "1580                   (139252, 22503880)             (8892)    0.602959\n",
      "1581                               (5747)             (8892)    0.602810\n",
      "1582                       (8932, 139252)           (134932)    0.602689\n",
      "1583                       (139252, 5997)           (134932)    0.602524\n",
      "1584                  (5267730, 22718131)          (5267750)    0.602151\n",
      "1585                     (102252, 102392)          (5267730)    0.602094\n",
      "1586                         (8792, 8892)          (5267730)    0.602062\n",
      "1587                               (5793)          (5267730)    0.602060\n",
      "1588                   (4762734, 4312482)         (22718131)    0.601665\n",
      "1589                     (102252, 139252)             (8892)    0.601641\n",
      "1590                      (5267730, 8892)           (102392)    0.601638\n",
      "1591                   (5267730, 4316482)   (130412, 139252)    0.601590\n",
      "1592                           (24069719)         (22718131)    0.601250\n",
      "1593                         (5997, 8892)           (139252)    0.601240\n",
      "1594                     (102792, 139252)           (134932)    0.601099\n",
      "1595                           (22503880)         (22718131)    0.601093\n",
      "1596                   (5267750, 4312482)         (22718131)    0.601087\n",
      "1597          (4316382, 5267730, 4316482)           (134912)    0.600973\n",
      "1598                    (139252, 4316482)          (4312482)    0.600965\n",
      "1599                   (4312482, 4316482)          (4316382)    0.600836\n",
      "1600                     (130412, 102252)          (4316482)    0.600694\n",
      "1601                               (1512)          (5267730)    0.600622\n",
      "1602                         (6301, 8892)           (139252)    0.600509\n",
      "1603                   (4762734, 4312482)             (8892)    0.600476\n",
      "1604                      (4316382, 8892)  (130412, 5267730)    0.600402\n",
      "1605                         (3461, 8892)           (139252)    0.600220\n",
      "\n",
      "[1606 rows x 3 columns]\n"
     ]
    }
   ],
   "source": [
    "\n",
    "data_list = list(training_data[\"value\"])\n",
    "frequent_itemsets = fpg.find_frequent_itemsets(data_list, minimum_support=0.05 * len(data_list), include_support=True)\n",
    "print(type(frequent_itemsets))  # print type\n",
    "result = []\n",
    "for itemset, support in frequent_itemsets:  # 将generator结果存入list\n",
    "    result.append((itemset, support / len(data_list)))\n",
    "\n",
    "result_patterns = [i[0] for i in result]\n",
    "result_support = [i[1] for i in result]\n",
    "patterns_df = pd.DataFrame({\"fluent_patterns\": result_patterns, \"support\": result_support})\n",
    "patterns = {}\n",
    "for i in result:\n",
    "    patterns[frozenset(sorted(i[0]))] = i[1]\n",
    "print(\"-------------挖掘频繁项集---------------\")\n",
    "print(patterns_df)\n",
    "\n",
    "def generate_rules(patterns, min_confidence):\n",
    "    patterns_group = group_patterns_by_length(patterns)\n",
    "    raw_rules = defaultdict(set)\n",
    "    for length, pattern_list in patterns_group.items():\n",
    "        if length == 1:\n",
    "            continue\n",
    "        for pattern, support in pattern_list:\n",
    "            item_list = list(pattern)\n",
    "            for window_size in range(1, length):\n",
    "                for i in range(0, length - window_size):\n",
    "                    for j in range(i + window_size, length):\n",
    "                        base_set = frozenset(item_list[i:j])\n",
    "                        predict_set = frozenset(pattern - base_set)\n",
    "                        confidence = support / patterns.get(base_set)\n",
    "                        if confidence > min_confidence:\n",
    "                            raw_rules[base_set].add((predict_set, confidence))\n",
    "\n",
    "                        base_set, predict_set = predict_set, base_set\n",
    "                        confidence = support / patterns.get(base_set)\n",
    "                        if confidence > min_confidence:\n",
    "                            raw_rules[base_set].add((predict_set, confidence))\n",
    "    return raw_rules\n",
    "\n",
    "def group_patterns_by_length(patterns):\n",
    "    result = defaultdict(list)\n",
    "    for pattern, support in patterns.items():\n",
    "        result[len(pattern)].append((pattern, support))\n",
    "    return result\n",
    "\n",
    "def transform(raw_rules):\n",
    "    result = list()\n",
    "    for base_set, predict_set_list in raw_rules.items():\n",
    "        for predict_set, confidence in predict_set_list:\n",
    "            result.append((base_set, predict_set, confidence))\n",
    "\n",
    "    return result\n",
    "raw_rules = generate_rules(patterns, 0.6)\n",
    "rules = transform(raw_rules)\n",
    "rules.sort(key=lambda x: x[2], reverse=True)\n",
    "rules_a = [i[0] for i in rules]\n",
    "rules_b = [i[1] for i in rules]\n",
    "confidence = [i[2] for i in rules]\n",
    "rules_df = pd.DataFrame({\"rules_a\": rules_a, \"rules_b\": rules_b, \"confidence\": confidence})\n",
    "print(rules_df)"
   ]
  },
  {
   "cell_type": "code",
   "execution_count": 135,
   "metadata": {},
   "outputs": [],
   "source": [
    "# 将规则转换为(rule_a,rule_b)的格式，根据rules的实际情况更改\n",
    "new_rule = []\n",
    "for a,b,c in rules:\n",
    "    new_rule.append([a,b])"
   ]
  },
  {
   "cell_type": "code",
   "execution_count": 136,
   "metadata": {},
   "outputs": [
    {
     "data": {
      "text/plain": [
       "[[frozenset({'139252', '21986963', '4316382'}), frozenset({'5267730'})],\n",
       " [frozenset({'139252', '4316382', '4316442'}), frozenset({'5267730'})],\n",
       " [frozenset({'134912', '4316382', '4316482'}), frozenset({'5267730'})],\n",
       " [frozenset({'4316382', '4762714'}), frozenset({'5267730'})],\n",
       " [frozenset({'4316382', '4316482', '4762754'}), frozenset({'5267730'})]]"
      ]
     },
     "execution_count": 136,
     "metadata": {},
     "output_type": "execute_result"
    }
   ],
   "source": [
    "new_rule[:5]"
   ]
  },
  {
   "cell_type": "code",
   "execution_count": 145,
   "metadata": {},
   "outputs": [
    {
     "name": "stdout",
     "output_type": "stream",
     "text": [
      "0  rules miss\n"
     ]
    },
    {
     "data": {
      "text/plain": [
       "0.877963539130011"
      ]
     },
     "execution_count": 145,
     "metadata": {},
     "output_type": "execute_result"
    }
   ],
   "source": [
    "# 计算前100条规则的得分\n",
    "result = evaluate_association_rules(new_rule[:100],evaluate_data)\n",
    "result"
   ]
  },
  {
   "cell_type": "code",
   "execution_count": 148,
   "metadata": {},
   "outputs": [
    {
     "name": "stdout",
     "output_type": "stream",
     "text": [
      "0  rules miss\n"
     ]
    },
    {
     "data": {
      "text/plain": [
       "0.8364170452763535"
      ]
     },
     "execution_count": 148,
     "metadata": {},
     "output_type": "execute_result"
    }
   ],
   "source": [
    "# 计算第100到200条规则的得分\n",
    "result = evaluate_association_rules(new_rule[100:200],evaluate_data)\n",
    "result"
   ]
  },
  {
   "cell_type": "code",
   "execution_count": 149,
   "metadata": {},
   "outputs": [
    {
     "name": "stdout",
     "output_type": "stream",
     "text": [
      "0  rules miss\n"
     ]
    },
    {
     "data": {
      "text/plain": [
       "0.8073542457545337"
      ]
     },
     "execution_count": 149,
     "metadata": {},
     "output_type": "execute_result"
    }
   ],
   "source": [
    "# 计算第200到300条规则的得分\n",
    "result = evaluate_association_rules(new_rule[200:300],evaluate_data)\n",
    "result"
   ]
  },
  {
   "cell_type": "code",
   "execution_count": 144,
   "metadata": {},
   "outputs": [
    {
     "name": "stdout",
     "output_type": "stream",
     "text": [
      "0  rules miss\n"
     ]
    },
    {
     "data": {
      "text/plain": [
       "0.7075517635501979"
      ]
     },
     "execution_count": 144,
     "metadata": {},
     "output_type": "execute_result"
    }
   ],
   "source": [
    "# 计算全部规则的得分\n",
    "result = evaluate_association_rules(new_rule,evaluate_data)\n",
    "result"
   ]
  },
  {
   "cell_type": "markdown",
   "metadata": {},
   "source": [
    "分别对前100条规则、第100到200条规则、第200到300条、全部规则进行评估，发现使用靠近前面的规则 平均评价较高，侧面证明了使用关联规则的置信度对规则进行排名有一定的优化效果。"
   ]
  }
 ],
 "metadata": {
  "kernelspec": {
   "display_name": "Python 3",
   "language": "python",
   "name": "python3"
  },
  "language_info": {
   "codemirror_mode": {
    "name": "ipython",
    "version": 3
   },
   "file_extension": ".py",
   "mimetype": "text/x-python",
   "name": "python",
   "nbconvert_exporter": "python",
   "pygments_lexer": "ipython3",
   "version": "3.7.1"
  }
 },
 "nbformat": 4,
 "nbformat_minor": 2
}
