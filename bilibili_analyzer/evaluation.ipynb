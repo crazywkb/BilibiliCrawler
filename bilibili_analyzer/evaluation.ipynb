{
 "cells": [
  {
   "cell_type": "code",
   "execution_count": 180,
   "metadata": {},
   "outputs": [],
   "source": [
    "def evaluate_association_rules(association_rules,test_datas):\n",
    "    \"\"\"\n",
    "    Parameters：\n",
    "        association_rules：要评估的关联规则（推荐规则） list((rule_a,rule_b))\n",
    "        test_datas：测试用的数据集 dataframe\n",
    "\n",
    "    Returns：\n",
    "        关联规则（推荐规则）在测试集上的平均准确率\n",
    "    \"\"\"\n",
    "    point_sum = 0\n",
    "    miss = 0\n",
    "    for rule_a,rule_b in association_rules:\n",
    "        set_rule_a = set(rule_a)\n",
    "        set_rule_b = set(rule_b)\n",
    "        \n",
    "        num_a = 0\n",
    "        num_b = 0\n",
    "        \n",
    "        for test_data in test_datas.value:\n",
    "            set_test_data = set(test_data)\n",
    "            if set_rule_a.issubset(set_test_data):\n",
    "                num_a += 1\n",
    "                if set_rule_b.issubset(set_test_data):\n",
    "                    num_b += 1\n",
    "        if num_a:\n",
    "            point_sum += num_b / num_a\n",
    "        else:\n",
    "            miss += 1\n",
    "    print(miss,' rules miss')\n",
    "    return point_sum / len(association_rules)\n",
    "    "
   ]
  },
  {
   "cell_type": "markdown",
   "metadata": {},
   "source": [
    "### 函数测试"
   ]
  },
  {
   "cell_type": "code",
   "execution_count": 125,
   "metadata": {},
   "outputs": [],
   "source": [
    "# 导入所需模块\n",
    "import pandas as pd\n",
    "import numpy as np\n",
    "import json\n",
    "import fp_growth_py3 as fpg\n",
    "import matplotlib.pyplot as plt\n",
    "import pylab as pl\n",
    "from collections import defaultdict"
   ]
  },
  {
   "cell_type": "code",
   "execution_count": 126,
   "metadata": {},
   "outputs": [],
   "source": [
    "# 读入测试数据集\n",
    "filepath='./test_data/user_following_animation.json'\n",
    "data=pd.read_json(filepath,lines=True)"
   ]
  },
  {
   "cell_type": "markdown",
   "metadata": {},
   "source": [
    "将测试数据集 划分为training_data与evaluate_data两部分，占比可调"
   ]
  },
  {
   "cell_type": "code",
   "execution_count": 163,
   "metadata": {},
   "outputs": [],
   "source": [
    "training_data = data.sample(n=9000, frac=None, replace=False, weights=None, random_state=None, axis=None)"
   ]
  },
  {
   "cell_type": "code",
   "execution_count": 164,
   "metadata": {},
   "outputs": [
    {
     "name": "stdout",
     "output_type": "stream",
     "text": [
      "9000\n"
     ]
    },
    {
     "data": {
      "text/html": [
       "<div>\n",
       "<style scoped>\n",
       "    .dataframe tbody tr th:only-of-type {\n",
       "        vertical-align: middle;\n",
       "    }\n",
       "\n",
       "    .dataframe tbody tr th {\n",
       "        vertical-align: top;\n",
       "    }\n",
       "\n",
       "    .dataframe thead th {\n",
       "        text-align: right;\n",
       "    }\n",
       "</style>\n",
       "<table border=\"1\" class=\"dataframe\">\n",
       "  <thead>\n",
       "    <tr style=\"text-align: right;\">\n",
       "      <th></th>\n",
       "      <th>db</th>\n",
       "      <th>key</th>\n",
       "      <th>size</th>\n",
       "      <th>ttl</th>\n",
       "      <th>type</th>\n",
       "      <th>value</th>\n",
       "    </tr>\n",
       "  </thead>\n",
       "  <tbody>\n",
       "    <tr>\n",
       "      <th>7762</th>\n",
       "      <td>7</td>\n",
       "      <td>77246224</td>\n",
       "      <td>462</td>\n",
       "      <td>-1</td>\n",
       "      <td>set</td>\n",
       "      <td>[1177, 1512, 1586, 1587, 1689, 1699, 1733, 254...</td>\n",
       "    </tr>\n",
       "    <tr>\n",
       "      <th>9196</th>\n",
       "      <td>7</td>\n",
       "      <td>299275542</td>\n",
       "      <td>253</td>\n",
       "      <td>-1</td>\n",
       "      <td>set</td>\n",
       "      <td>[530, 1588, 1666, 2576, 2743, 2760, 3023, 3494...</td>\n",
       "    </tr>\n",
       "    <tr>\n",
       "      <th>4560</th>\n",
       "      <td>7</td>\n",
       "      <td>70399334</td>\n",
       "      <td>39</td>\n",
       "      <td>-1</td>\n",
       "      <td>set</td>\n",
       "      <td>[835, 1089, 2074, 2581, 2960, 5550, 5761, 6652...</td>\n",
       "    </tr>\n",
       "    <tr>\n",
       "      <th>6545</th>\n",
       "      <td>7</td>\n",
       "      <td>1320581</td>\n",
       "      <td>63</td>\n",
       "      <td>-1</td>\n",
       "      <td>set</td>\n",
       "      <td>[685, 1201, 2585, 8892, 102112, 102632, 140552...</td>\n",
       "    </tr>\n",
       "    <tr>\n",
       "      <th>5456</th>\n",
       "      <td>7</td>\n",
       "      <td>14546601</td>\n",
       "      <td>509</td>\n",
       "      <td>-1</td>\n",
       "      <td>set</td>\n",
       "      <td>[53, 499, 697, 1071, 1072, 1177, 1178, 1407, 1...</td>\n",
       "    </tr>\n",
       "  </tbody>\n",
       "</table>\n",
       "</div>"
      ],
      "text/plain": [
       "      db        key  size  ttl type  \\\n",
       "7762   7   77246224   462   -1  set   \n",
       "9196   7  299275542   253   -1  set   \n",
       "4560   7   70399334    39   -1  set   \n",
       "6545   7    1320581    63   -1  set   \n",
       "5456   7   14546601   509   -1  set   \n",
       "\n",
       "                                                  value  \n",
       "7762  [1177, 1512, 1586, 1587, 1689, 1699, 1733, 254...  \n",
       "9196  [530, 1588, 1666, 2576, 2743, 2760, 3023, 3494...  \n",
       "4560  [835, 1089, 2074, 2581, 2960, 5550, 5761, 6652...  \n",
       "6545  [685, 1201, 2585, 8892, 102112, 102632, 140552...  \n",
       "5456  [53, 499, 697, 1071, 1072, 1177, 1178, 1407, 1...  "
      ]
     },
     "execution_count": 164,
     "metadata": {},
     "output_type": "execute_result"
    }
   ],
   "source": [
    "print(len(training_data))\n",
    "training_data.head()"
   ]
  },
  {
   "cell_type": "code",
   "execution_count": 165,
   "metadata": {},
   "outputs": [],
   "source": [
    "evaluate_data = data.drop([x for x in training_data.index])[:1000]"
   ]
  },
  {
   "cell_type": "code",
   "execution_count": 166,
   "metadata": {},
   "outputs": [
    {
     "name": "stdout",
     "output_type": "stream",
     "text": [
      "1000\n"
     ]
    },
    {
     "data": {
      "text/html": [
       "<div>\n",
       "<style scoped>\n",
       "    .dataframe tbody tr th:only-of-type {\n",
       "        vertical-align: middle;\n",
       "    }\n",
       "\n",
       "    .dataframe tbody tr th {\n",
       "        vertical-align: top;\n",
       "    }\n",
       "\n",
       "    .dataframe thead th {\n",
       "        text-align: right;\n",
       "    }\n",
       "</style>\n",
       "<table border=\"1\" class=\"dataframe\">\n",
       "  <thead>\n",
       "    <tr style=\"text-align: right;\">\n",
       "      <th></th>\n",
       "      <th>db</th>\n",
       "      <th>key</th>\n",
       "      <th>size</th>\n",
       "      <th>ttl</th>\n",
       "      <th>type</th>\n",
       "      <th>value</th>\n",
       "    </tr>\n",
       "  </thead>\n",
       "  <tbody>\n",
       "    <tr>\n",
       "      <th>10</th>\n",
       "      <td>7</td>\n",
       "      <td>344488725</td>\n",
       "      <td>4</td>\n",
       "      <td>-1</td>\n",
       "      <td>set</td>\n",
       "      <td>[5744]</td>\n",
       "    </tr>\n",
       "    <tr>\n",
       "      <th>19</th>\n",
       "      <td>7</td>\n",
       "      <td>28872792</td>\n",
       "      <td>203</td>\n",
       "      <td>-1</td>\n",
       "      <td>set</td>\n",
       "      <td>[207, 427, 877, 963, 1089, 1733, 2520, 2572, 2...</td>\n",
       "    </tr>\n",
       "    <tr>\n",
       "      <th>34</th>\n",
       "      <td>7</td>\n",
       "      <td>82151097</td>\n",
       "      <td>4</td>\n",
       "      <td>-1</td>\n",
       "      <td>set</td>\n",
       "      <td>[5998]</td>\n",
       "    </tr>\n",
       "    <tr>\n",
       "      <th>36</th>\n",
       "      <td>7</td>\n",
       "      <td>6994862</td>\n",
       "      <td>262</td>\n",
       "      <td>-1</td>\n",
       "      <td>set</td>\n",
       "      <td>[3461, 4026, 5027, 5043, 5058, 5070, 5513, 553...</td>\n",
       "    </tr>\n",
       "    <tr>\n",
       "      <th>45</th>\n",
       "      <td>7</td>\n",
       "      <td>11362620</td>\n",
       "      <td>136</td>\n",
       "      <td>-1</td>\n",
       "      <td>set</td>\n",
       "      <td>[123, 296, 528, 767, 954, 959, 1548, 1563, 187...</td>\n",
       "    </tr>\n",
       "  </tbody>\n",
       "</table>\n",
       "</div>"
      ],
      "text/plain": [
       "    db        key  size  ttl type  \\\n",
       "10   7  344488725     4   -1  set   \n",
       "19   7   28872792   203   -1  set   \n",
       "34   7   82151097     4   -1  set   \n",
       "36   7    6994862   262   -1  set   \n",
       "45   7   11362620   136   -1  set   \n",
       "\n",
       "                                                value  \n",
       "10                                             [5744]  \n",
       "19  [207, 427, 877, 963, 1089, 1733, 2520, 2572, 2...  \n",
       "34                                             [5998]  \n",
       "36  [3461, 4026, 5027, 5043, 5058, 5070, 5513, 553...  \n",
       "45  [123, 296, 528, 767, 954, 959, 1548, 1563, 187...  "
      ]
     },
     "execution_count": 166,
     "metadata": {},
     "output_type": "execute_result"
    }
   ],
   "source": [
    "print(len(evaluate_data))\n",
    "evaluate_data.head()"
   ]
  },
  {
   "cell_type": "markdown",
   "metadata": {},
   "source": [
    "用training_data进行训练，导出关联规则（推荐规则）\n",
    "\n",
    "注：这里只是用置信度进行了排名，因为只是对评估函数进行测试，所以没有加入更多的排名方法。"
   ]
  },
  {
   "cell_type": "code",
   "execution_count": 167,
   "metadata": {},
   "outputs": [
    {
     "name": "stdout",
     "output_type": "stream",
     "text": [
      "<class 'generator'>\n",
      "-------------挖掘频繁项集---------------\n",
      "                 fluent_patterns   support\n",
      "0                       [102392]  0.315444\n",
      "1                         [5997]  0.207778\n",
      "2                 [102392, 5997]  0.118333\n",
      "3                 [139252, 5997]  0.101889\n",
      "4                [5267730, 5997]  0.108333\n",
      "5        [139252, 5267730, 5997]  0.074222\n",
      "6        [102392, 5267730, 5997]  0.073667\n",
      "7                   [8892, 5997]  0.103778\n",
      "8           [102392, 8892, 5997]  0.070222\n",
      "9                 [130412, 5997]  0.084444\n",
      "10                        [5852]  0.195000\n",
      "11                [102392, 5852]  0.093667\n",
      "12                [139252, 5852]  0.079333\n",
      "13                [130412, 5852]  0.072111\n",
      "14               [5267730, 5852]  0.072667\n",
      "15                  [8892, 5852]  0.085222\n",
      "16                  [3450, 5852]  0.071000\n",
      "17                        [2543]  0.193889\n",
      "18                [102392, 2543]  0.091889\n",
      "19                  [5852, 2543]  0.078778\n",
      "20                [139252, 2543]  0.085333\n",
      "21               [5267730, 2543]  0.082667\n",
      "22                  [8892, 2543]  0.085556\n",
      "23                [130412, 2543]  0.073000\n",
      "24                        [6360]  0.168667\n",
      "25                [102392, 6360]  0.092778\n",
      "26                [139252, 6360]  0.081444\n",
      "27               [5267730, 6360]  0.078000\n",
      "28                        [6301]  0.144222\n",
      "29                [139252, 6301]  0.071889\n",
      "..                           ...       ...\n",
      "422   [139252, 4316382, 4762754]  0.070667\n",
      "423  [5267730, 4316382, 4762754]  0.076889\n",
      "424            [134912, 4762754]  0.070333\n",
      "425            [130412, 4762754]  0.081778\n",
      "426                       [2572]  0.090333\n",
      "427                       [5070]  0.075333\n",
      "428                     [102512]  0.125667\n",
      "429             [102392, 102512]  0.085667\n",
      "430                       [6463]  0.099000\n",
      "431                       [6434]  0.144778\n",
      "432               [102392, 6434]  0.085111\n",
      "433                 [8892, 6434]  0.081667\n",
      "434                       [3461]  0.195111\n",
      "435               [139252, 3461]  0.093222\n",
      "436                 [5997, 3461]  0.100889\n",
      "437                 [3450, 3461]  0.089778\n",
      "438               [102392, 3461]  0.100556\n",
      "439                 [8892, 3461]  0.098222\n",
      "440               [130412, 3461]  0.079889\n",
      "441              [5267730, 3461]  0.089556\n",
      "442                       [3398]  0.090778\n",
      "443                        [963]  0.082333\n",
      "444                     [102312]  0.078778\n",
      "445                      [11932]  0.070889\n",
      "446                       [6440]  0.112889\n",
      "447                 [5997, 6440]  0.071222\n",
      "448                      [79472]  0.089556\n",
      "449                        [844]  0.083000\n",
      "450                       [2680]  0.080111\n",
      "451                      [12872]  0.075556\n",
      "\n",
      "[452 rows x 2 columns]\n",
      "                         rules_a            rules_b  confidence\n",
      "0     (4316382, 139252, 4316482)          (5267730)    0.904145\n",
      "1             (4316382, 4762754)          (5267730)    0.897536\n",
      "2        (4316382, 139252, 8892)          (5267730)    0.893617\n",
      "3             (4316382, 4312482)          (5267730)    0.880155\n",
      "4     (130412, 5267730, 4316482)           (139252)    0.876765\n",
      "5             (4316382, 4316482)          (5267730)    0.874323\n",
      "6      (130412, 139252, 4316382)          (5267730)    0.873918\n",
      "7              (4316382, 134912)          (5267730)    0.865526\n",
      "8    (4316382, 5267730, 4316482)           (139252)    0.864932\n",
      "9                (4316382, 8892)          (5267730)    0.863114\n",
      "10             (102252, 4316482)           (139252)    0.859603\n",
      "11             (134932, 4316382)          (5267730)    0.859410\n",
      "12             (134912, 4316482)           (139252)    0.859192\n",
      "13             (139252, 4316442)          (5267730)    0.856959\n",
      "14             (4316382, 139252)          (5267730)    0.855688\n",
      "15             (130412, 4316382)          (5267730)    0.854398\n",
      "16                        (1587)             (1586)    0.850590\n",
      "17             (139252, 4762754)          (5267730)    0.842432\n",
      "18             (4316382, 102392)          (5267730)    0.839955\n",
      "19             (130412, 4316482)           (139252)    0.837784\n",
      "20    (130412, 5267730, 4316382)           (139252)    0.836686\n",
      "21            (4316382, 4316482)           (139252)    0.836403\n",
      "22               (4316482, 8892)           (139252)    0.833721\n",
      "23            (5267730, 4316482)           (139252)    0.831532\n",
      "24             (102252, 5267730)           (139252)    0.828306\n",
      "25              (130412, 102252)           (139252)    0.827746\n",
      "26            (5267730, 4762754)          (4316382)    0.825776\n",
      "27             (102392, 4316482)           (139252)    0.825356\n",
      "28            (4316382, 4762754)           (139252)    0.824903\n",
      "29            (130412, 22718131)           (139252)    0.824289\n",
      "..                           ...                ...         ...\n",
      "235           (5267730, 4316482)   (130412, 139252)    0.615315\n",
      "236                    (4762754)  (139252, 5267730)    0.615036\n",
      "237           (5267730, 4312482)             (8892)    0.614603\n",
      "238                    (5267750)           (139252)    0.614266\n",
      "239                       (8792)           (139252)    0.614067\n",
      "240                       (8812)           (102392)    0.613553\n",
      "241                     (139252)          (5267730)    0.613344\n",
      "242               (102392, 8892)           (139252)    0.613156\n",
      "243           (4316382, 5267730)             (8892)    0.612760\n",
      "244           (5267730, 4312482)           (130412)    0.610906\n",
      "245              (5267730, 8892)           (130412)    0.610811\n",
      "246                    (4762734)          (5267730)    0.609792\n",
      "247                    (5267750)          (4312482)    0.609418\n",
      "248                   (22503880)         (22718131)    0.607970\n",
      "249              (5267730, 8892)           (102392)    0.607722\n",
      "250             (130412, 134912)          (4316382)    0.607583\n",
      "251           (5267730, 4316482)             (8892)    0.607207\n",
      "252                     (134912)          (5267730)    0.606965\n",
      "253           (5267730, 4316482)          (4312482)    0.606306\n",
      "254                       (8752)             (8892)    0.606258\n",
      "255                      (78352)           (102392)    0.605160\n",
      "256                       (8772)             (6301)    0.604960\n",
      "257            (139252, 5267730)          (4316482)    0.604849\n",
      "258                       (1586)             (1587)    0.603160\n",
      "259            (139252, 5267730)             (8892)    0.602883\n",
      "260             (139252, 102392)             (8892)    0.601845\n",
      "261                   (24097891)          (5267730)    0.601735\n",
      "262                    (4312482)           (139252)    0.600980\n",
      "263           (5267730, 4312482)          (5267750)    0.600739\n",
      "264               (139252, 8892)          (4316382)    0.600160\n",
      "\n",
      "[265 rows x 3 columns]\n"
     ]
    }
   ],
   "source": [
    "\n",
    "data_list = list(training_data[\"value\"])\n",
    "frequent_itemsets = fpg.find_frequent_itemsets(data_list, minimum_support=0.07 * len(data_list), include_support=True)\n",
    "print(type(frequent_itemsets))  # print type\n",
    "result = []\n",
    "for itemset, support in frequent_itemsets:  # 将generator结果存入list\n",
    "    result.append((itemset, support / len(data_list)))\n",
    "\n",
    "result_patterns = [i[0] for i in result]\n",
    "result_support = [i[1] for i in result]\n",
    "patterns_df = pd.DataFrame({\"fluent_patterns\": result_patterns, \"support\": result_support})\n",
    "patterns = {}\n",
    "for i in result:\n",
    "    patterns[frozenset(sorted(i[0]))] = i[1]\n",
    "print(\"-------------挖掘频繁项集---------------\")\n",
    "print(patterns_df)\n",
    "\n",
    "def generate_rules(patterns, min_confidence):\n",
    "    patterns_group = group_patterns_by_length(patterns)\n",
    "    raw_rules = defaultdict(set)\n",
    "    for length, pattern_list in patterns_group.items():\n",
    "        if length == 1:\n",
    "            continue\n",
    "        for pattern, support in pattern_list:\n",
    "            item_list = list(pattern)\n",
    "            for window_size in range(1, length):\n",
    "                for i in range(0, length - window_size):\n",
    "                    for j in range(i + window_size, length):\n",
    "                        base_set = frozenset(item_list[i:j])\n",
    "                        predict_set = frozenset(pattern - base_set)\n",
    "                        confidence = support / patterns.get(base_set)\n",
    "                        if confidence > min_confidence:\n",
    "                            raw_rules[base_set].add((predict_set, confidence))\n",
    "\n",
    "                        base_set, predict_set = predict_set, base_set\n",
    "                        confidence = support / patterns.get(base_set)\n",
    "                        if confidence > min_confidence:\n",
    "                            raw_rules[base_set].add((predict_set, confidence))\n",
    "    return raw_rules\n",
    "\n",
    "def group_patterns_by_length(patterns):\n",
    "    result = defaultdict(list)\n",
    "    for pattern, support in patterns.items():\n",
    "        result[len(pattern)].append((pattern, support))\n",
    "    return result\n",
    "\n",
    "def transform(raw_rules):\n",
    "    result = list()\n",
    "    for base_set, predict_set_list in raw_rules.items():\n",
    "        for predict_set, confidence in predict_set_list:\n",
    "            result.append((base_set, predict_set, confidence))\n",
    "\n",
    "    return result\n",
    "raw_rules = generate_rules(patterns, 0.6)\n",
    "rules = transform(raw_rules)\n",
    "rules.sort(key=lambda x: x[2], reverse=True)\n",
    "rules_a = [i[0] for i in rules]\n",
    "rules_b = [i[1] for i in rules]\n",
    "confidence = [i[2] for i in rules]\n",
    "rules_df = pd.DataFrame({\"rules_a\": rules_a, \"rules_b\": rules_b, \"confidence\": confidence})\n",
    "print(rules_df)"
   ]
  },
  {
   "cell_type": "code",
   "execution_count": 168,
   "metadata": {},
   "outputs": [],
   "source": [
    "# 将规则转换为(rule_a,rule_b)的格式，根据rules的实际情况更改\n",
    "new_rule = []\n",
    "for a,b,c in rules:\n",
    "    new_rule.append([a,b])"
   ]
  },
  {
   "cell_type": "code",
   "execution_count": 169,
   "metadata": {},
   "outputs": [
    {
     "data": {
      "text/plain": [
       "[[frozenset({'139252', '4316382', '4316482'}), frozenset({'5267730'})],\n",
       " [frozenset({'4316382', '4762754'}), frozenset({'5267730'})],\n",
       " [frozenset({'139252', '4316382', '8892'}), frozenset({'5267730'})],\n",
       " [frozenset({'4312482', '4316382'}), frozenset({'5267730'})],\n",
       " [frozenset({'130412', '4316482', '5267730'}), frozenset({'139252'})]]"
      ]
     },
     "execution_count": 169,
     "metadata": {},
     "output_type": "execute_result"
    }
   ],
   "source": [
    "new_rule[:5]"
   ]
  },
  {
   "cell_type": "code",
   "execution_count": 174,
   "metadata": {},
   "outputs": [
    {
     "name": "stdout",
     "output_type": "stream",
     "text": [
      "0  rules miss\n"
     ]
    },
    {
     "data": {
      "text/plain": [
       "0.7794543136868225"
      ]
     },
     "execution_count": 174,
     "metadata": {},
     "output_type": "execute_result"
    }
   ],
   "source": [
    "# 计算前100条规则的平均准确率\n",
    "result = evaluate_association_rules(new_rule[:100],evaluate_data)\n",
    "result"
   ]
  },
  {
   "cell_type": "code",
   "execution_count": 175,
   "metadata": {},
   "outputs": [
    {
     "name": "stdout",
     "output_type": "stream",
     "text": [
      "0  rules miss\n"
     ]
    },
    {
     "data": {
      "text/plain": [
       "0.6724204487956956"
      ]
     },
     "execution_count": 175,
     "metadata": {},
     "output_type": "execute_result"
    }
   ],
   "source": [
    "# 计算第100到200条规则的平均准确率\n",
    "result = evaluate_association_rules(new_rule[100:200],evaluate_data)\n",
    "result"
   ]
  },
  {
   "cell_type": "code",
   "execution_count": 176,
   "metadata": {},
   "outputs": [
    {
     "name": "stdout",
     "output_type": "stream",
     "text": [
      "0  rules miss\n"
     ]
    },
    {
     "data": {
      "text/plain": [
       "0.6094908336235078"
      ]
     },
     "execution_count": 176,
     "metadata": {},
     "output_type": "execute_result"
    }
   ],
   "source": [
    "# 计算第200到300条规则的平均准确率\n",
    "result = evaluate_association_rules(new_rule[200:300],evaluate_data)\n",
    "result"
   ]
  },
  {
   "cell_type": "code",
   "execution_count": 177,
   "metadata": {},
   "outputs": [
    {
     "name": "stdout",
     "output_type": "stream",
     "text": [
      "0  rules miss\n"
     ]
    },
    {
     "data": {
      "text/plain": [
       "0.6973750205048295"
      ]
     },
     "execution_count": 177,
     "metadata": {},
     "output_type": "execute_result"
    }
   ],
   "source": [
    "# 计算全部规则的平均准确率\n",
    "result = evaluate_association_rules(new_rule,evaluate_data)\n",
    "result"
   ]
  },
  {
   "cell_type": "markdown",
   "metadata": {},
   "source": [
    "分别对前100条规则、第100到200条规则、第200到300条规则、全部规则进行评估，\n",
    "发现使用靠近前面的规则进行推荐，平均准确率较高，证明了使用关联规则的置信度对规则进行排名有一定的优化效果。\n"
   ]
  }
 ],
 "metadata": {
  "kernelspec": {
   "display_name": "Python 3",
   "language": "python",
   "name": "python3"
  },
  "language_info": {
   "codemirror_mode": {
    "name": "ipython",
    "version": 3
   },
   "file_extension": ".py",
   "mimetype": "text/x-python",
   "name": "python",
   "nbconvert_exporter": "python",
   "pygments_lexer": "ipython3",
   "version": "3.7.1"
  }
 },
 "nbformat": 4,
 "nbformat_minor": 2
}
