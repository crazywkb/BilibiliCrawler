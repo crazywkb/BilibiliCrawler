{
 "cells": [
  {
   "cell_type": "code",
   "execution_count": 180,
   "metadata": {},
   "outputs": [],
   "source": [
    "def evaluate_association_rules(association_rules,test_datas):\n",
    "    \"\"\"\n",
    "    Parameters：\n",
    "        association_rules：要评估的关联规则（推荐规则） list((rule_a,rule_b))\n",
    "        test_datas：测试用的数据集 dataframe\n",
    "\n",
    "    Returns：\n",
    "        关联规则（推荐规则）在测试集上的平均准确率\n",
    "    \"\"\"\n",
    "    point_sum = 0\n",
    "    miss = 0\n",
    "    for rule_a,rule_b in association_rules:\n",
    "        set_rule_a = set(rule_a)\n",
    "        set_rule_b = set(rule_b)\n",
    "        \n",
    "        num_a = 0\n",
    "        num_b = 0\n",
    "        \n",
    "        for test_data in test_datas.value:\n",
    "            set_test_data = set(test_data)\n",
    "            if set_rule_a.issubset(set_test_data):\n",
    "                num_a += 1\n",
    "                if set_rule_b.issubset(set_test_data):\n",
    "                    num_b += 1\n",
    "        if num_a:\n",
    "            point_sum += num_b / num_a\n",
    "        else:\n",
    "            miss += 1\n",
    "    print(miss,' rules miss')\n",
    "    return point_sum / len(association_rules)\n",
    "    "
   ]
  },
  {
   "cell_type": "markdown",
   "metadata": {},
   "source": [
    "### 函数测试"
   ]
  },
  {
   "cell_type": "code",
   "execution_count": 125,
   "metadata": {},
   "outputs": [],
   "source": [
    "# 导入所需模块\n",
    "import pandas as pd\n",
    "import numpy as np\n",
    "import json\n",
    "import fp_growth_py3 as fpg\n",
    "import matplotlib.pyplot as plt\n",
    "import pylab as pl\n",
    "from collections import defaultdict"
   ]
  },
  {
   "cell_type": "code",
   "execution_count": 218,
   "metadata": {},
   "outputs": [
    {
     "data": {
      "text/plain": [
       "51432"
      ]
     },
     "execution_count": 218,
     "metadata": {},
     "output_type": "execute_result"
    }
   ],
   "source": [
    "# 读入测试数据集\n",
    "filepath='./test_data/user_following_animation.json'\n",
    "data=pd.read_json(filepath,lines=True)\n",
    "user_info = pd.read_csv(\"test_data/bilibili_crawler_user_info.csv\",names = ['id','mid','name','sex','sign','the_rank','level','jointime','moral','silence','birthday','coins','fans_badge','role','title','desc','vip_type','vip_status'])\n",
    "\n",
    "len(user_info)\n"
   ]
  },
  {
   "cell_type": "code",
   "execution_count": 219,
   "metadata": {},
   "outputs": [
    {
     "data": {
      "text/plain": [
       "51424"
      ]
     },
     "execution_count": 219,
     "metadata": {},
     "output_type": "execute_result"
    }
   ],
   "source": [
    "user_info.drop(user_info[user_info.vip_type.isna() | user_info.the_rank.isna() | user_info.level.isna()].index.tolist(),inplace=True) # 将vip_type、the_rank、level有NaN的行去掉\n",
    "len(user_info)"
   ]
  },
  {
   "cell_type": "code",
   "execution_count": 220,
   "metadata": {},
   "outputs": [],
   "source": [
    "# 设置权重字典\n",
    "add_rules={'the_rank':{10000:1,20000:2,25000:3,30000:4},'level':{'3':1,'4':2,'5':3,'6':4},'vip_type':{0:0,1:1,2:2}}\n"
   ]
  },
  {
   "cell_type": "code",
   "execution_count": 221,
   "metadata": {},
   "outputs": [
    {
     "name": "stdout",
     "output_type": "stream",
     "text": [
      "db                                                       7\n",
      "key                                         finished_users\n",
      "size                                                507576\n",
      "ttl                                                     -1\n",
      "type                                                   set\n",
      "value    [330817737, 74775, 259640193, 24774761, 540994...\n",
      "Name: 4504, dtype: object\n"
     ]
    }
   ],
   "source": [
    "# 去除一下异常数据\n",
    "for index,row in data.iterrows():\n",
    "    try:\n",
    "        int(row.key)\n",
    "    except:\n",
    "        print(row)\n",
    "        data.drop(index,inplace=True)"
   ]
  },
  {
   "cell_type": "code",
   "execution_count": 201,
   "metadata": {},
   "outputs": [],
   "source": [
    "def user_power(data,rules,user_info):\n",
    "    \"\"\"\n",
    "    params:\n",
    "        data:用户收藏ID数据集\n",
    "        rules:权重规则\n",
    "        user_info:用户信息数据集\n",
    "    return:新数据集\n",
    "        \n",
    "    \"\"\"\n",
    "    new_data = pd.DataFrame(columns=data.columns)\n",
    "    for index,row in data.iterrows():\n",
    "        info = user_info[user_info.mid == int(row.key)]\n",
    "\n",
    "        if len(info):\n",
    "            the_power = rules['the_rank'][info.the_rank.values[0]] + rules['level'][info.level.values[0]] + rules['vip_type'][info.vip_type.values[0]]\n",
    "        else:  # len(info)==0 说明在user_info中没有这个用户的相关数据\n",
    "            the_power = 1\n",
    "#         print(the_power)\n",
    "        for i in range(the_power):\n",
    "            new_data = new_data.append(row,ignore_index=True)\n",
    "    \n",
    "    return new_data"
   ]
  },
  {
   "cell_type": "code",
   "execution_count": 202,
   "metadata": {},
   "outputs": [
    {
     "data": {
      "text/plain": [
       "38829"
      ]
     },
     "execution_count": 202,
     "metadata": {},
     "output_type": "execute_result"
    }
   ],
   "source": [
    "# 根据权重规则对数据进行扩充\n",
    "new_data= user_power(data,add_rules,user_info)\n",
    "len(new_data)"
   ]
  },
  {
   "cell_type": "markdown",
   "metadata": {},
   "source": [
    "将测试数据集 划分为training_data与evaluate_data两部分，占比可调"
   ]
  },
  {
   "cell_type": "code",
   "execution_count": 205,
   "metadata": {},
   "outputs": [],
   "source": [
    "training_data = new_data.sample(n=None, frac=0.9, replace=False, weights=None, random_state=None, axis=None)"
   ]
  },
  {
   "cell_type": "code",
   "execution_count": 206,
   "metadata": {},
   "outputs": [
    {
     "name": "stdout",
     "output_type": "stream",
     "text": [
      "34946\n"
     ]
    },
    {
     "data": {
      "text/html": [
       "<div>\n",
       "<style scoped>\n",
       "    .dataframe tbody tr th:only-of-type {\n",
       "        vertical-align: middle;\n",
       "    }\n",
       "\n",
       "    .dataframe tbody tr th {\n",
       "        vertical-align: top;\n",
       "    }\n",
       "\n",
       "    .dataframe thead th {\n",
       "        text-align: right;\n",
       "    }\n",
       "</style>\n",
       "<table border=\"1\" class=\"dataframe\">\n",
       "  <thead>\n",
       "    <tr style=\"text-align: right;\">\n",
       "      <th></th>\n",
       "      <th>db</th>\n",
       "      <th>key</th>\n",
       "      <th>size</th>\n",
       "      <th>ttl</th>\n",
       "      <th>type</th>\n",
       "      <th>value</th>\n",
       "    </tr>\n",
       "  </thead>\n",
       "  <tbody>\n",
       "    <tr>\n",
       "      <th>25630</th>\n",
       "      <td>7</td>\n",
       "      <td>231642237</td>\n",
       "      <td>24</td>\n",
       "      <td>-1</td>\n",
       "      <td>set</td>\n",
       "      <td>[6339, 139352, 4316442, 5268038]</td>\n",
       "    </tr>\n",
       "    <tr>\n",
       "      <th>15916</th>\n",
       "      <td>7</td>\n",
       "      <td>2969676</td>\n",
       "      <td>70</td>\n",
       "      <td>-1</td>\n",
       "      <td>set</td>\n",
       "      <td>[240, 844, 1553, 1635, 1687, 2271, 2602, 2876,...</td>\n",
       "    </tr>\n",
       "    <tr>\n",
       "      <th>16400</th>\n",
       "      <td>7</td>\n",
       "      <td>33633146</td>\n",
       "      <td>10</td>\n",
       "      <td>-1</td>\n",
       "      <td>set</td>\n",
       "      <td>[3462, 102792]</td>\n",
       "    </tr>\n",
       "    <tr>\n",
       "      <th>25899</th>\n",
       "      <td>7</td>\n",
       "      <td>867942</td>\n",
       "      <td>262</td>\n",
       "      <td>-1</td>\n",
       "      <td>set</td>\n",
       "      <td>[177, 184, 191, 856, 1512, 1552, 1559, 2338, 2...</td>\n",
       "    </tr>\n",
       "    <tr>\n",
       "      <th>3319</th>\n",
       "      <td>7</td>\n",
       "      <td>312907</td>\n",
       "      <td>83</td>\n",
       "      <td>-1</td>\n",
       "      <td>set</td>\n",
       "      <td>[184, 5998, 6301, 6312, 6339, 6420, 6434, 6439...</td>\n",
       "    </tr>\n",
       "  </tbody>\n",
       "</table>\n",
       "</div>"
      ],
      "text/plain": [
       "      db        key size ttl type  \\\n",
       "25630  7  231642237   24  -1  set   \n",
       "15916  7    2969676   70  -1  set   \n",
       "16400  7   33633146   10  -1  set   \n",
       "25899  7     867942  262  -1  set   \n",
       "3319   7     312907   83  -1  set   \n",
       "\n",
       "                                                   value  \n",
       "25630                   [6339, 139352, 4316442, 5268038]  \n",
       "15916  [240, 844, 1553, 1635, 1687, 2271, 2602, 2876,...  \n",
       "16400                                     [3462, 102792]  \n",
       "25899  [177, 184, 191, 856, 1512, 1552, 1559, 2338, 2...  \n",
       "3319   [184, 5998, 6301, 6312, 6339, 6420, 6434, 6439...  "
      ]
     },
     "execution_count": 206,
     "metadata": {},
     "output_type": "execute_result"
    }
   ],
   "source": [
    "print(len(training_data))\n",
    "training_data.head()"
   ]
  },
  {
   "cell_type": "code",
   "execution_count": 207,
   "metadata": {},
   "outputs": [],
   "source": [
    "evaluate_data = new_data.drop([x for x in training_data.index])"
   ]
  },
  {
   "cell_type": "code",
   "execution_count": 208,
   "metadata": {},
   "outputs": [
    {
     "name": "stdout",
     "output_type": "stream",
     "text": [
      "3883\n"
     ]
    },
    {
     "data": {
      "text/html": [
       "<div>\n",
       "<style scoped>\n",
       "    .dataframe tbody tr th:only-of-type {\n",
       "        vertical-align: middle;\n",
       "    }\n",
       "\n",
       "    .dataframe tbody tr th {\n",
       "        vertical-align: top;\n",
       "    }\n",
       "\n",
       "    .dataframe thead th {\n",
       "        text-align: right;\n",
       "    }\n",
       "</style>\n",
       "<table border=\"1\" class=\"dataframe\">\n",
       "  <thead>\n",
       "    <tr style=\"text-align: right;\">\n",
       "      <th></th>\n",
       "      <th>db</th>\n",
       "      <th>key</th>\n",
       "      <th>size</th>\n",
       "      <th>ttl</th>\n",
       "      <th>type</th>\n",
       "      <th>value</th>\n",
       "    </tr>\n",
       "  </thead>\n",
       "  <tbody>\n",
       "    <tr>\n",
       "      <th>11</th>\n",
       "      <td>7</td>\n",
       "      <td>37868878</td>\n",
       "      <td>1246</td>\n",
       "      <td>-1</td>\n",
       "      <td>set</td>\n",
       "      <td>[53, 110, 249, 282, 333, 334, 419, 470, 471, 5...</td>\n",
       "    </tr>\n",
       "    <tr>\n",
       "      <th>14</th>\n",
       "      <td>7</td>\n",
       "      <td>37868878</td>\n",
       "      <td>1246</td>\n",
       "      <td>-1</td>\n",
       "      <td>set</td>\n",
       "      <td>[53, 110, 249, 282, 333, 334, 419, 470, 471, 5...</td>\n",
       "    </tr>\n",
       "    <tr>\n",
       "      <th>71</th>\n",
       "      <td>7</td>\n",
       "      <td>7862266</td>\n",
       "      <td>484</td>\n",
       "      <td>-1</td>\n",
       "      <td>set</td>\n",
       "      <td>[480, 688, 814, 981, 994, 1064, 1078, 1083, 10...</td>\n",
       "    </tr>\n",
       "    <tr>\n",
       "      <th>79</th>\n",
       "      <td>7</td>\n",
       "      <td>38115290</td>\n",
       "      <td>409</td>\n",
       "      <td>-1</td>\n",
       "      <td>set</td>\n",
       "      <td>[2580, 2760, 5786, 5849, 5856, 6360, 6434, 657...</td>\n",
       "    </tr>\n",
       "    <tr>\n",
       "      <th>86</th>\n",
       "      <td>7</td>\n",
       "      <td>8784405</td>\n",
       "      <td>183</td>\n",
       "      <td>-1</td>\n",
       "      <td>set</td>\n",
       "      <td>[425, 963, 1178, 1463, 1660, 3151, 3756, 4378,...</td>\n",
       "    </tr>\n",
       "  </tbody>\n",
       "</table>\n",
       "</div>"
      ],
      "text/plain": [
       "   db       key  size ttl type  \\\n",
       "11  7  37868878  1246  -1  set   \n",
       "14  7  37868878  1246  -1  set   \n",
       "71  7   7862266   484  -1  set   \n",
       "79  7  38115290   409  -1  set   \n",
       "86  7   8784405   183  -1  set   \n",
       "\n",
       "                                                value  \n",
       "11  [53, 110, 249, 282, 333, 334, 419, 470, 471, 5...  \n",
       "14  [53, 110, 249, 282, 333, 334, 419, 470, 471, 5...  \n",
       "71  [480, 688, 814, 981, 994, 1064, 1078, 1083, 10...  \n",
       "79  [2580, 2760, 5786, 5849, 5856, 6360, 6434, 657...  \n",
       "86  [425, 963, 1178, 1463, 1660, 3151, 3756, 4378,...  "
      ]
     },
     "execution_count": 208,
     "metadata": {},
     "output_type": "execute_result"
    }
   ],
   "source": [
    "print(len(evaluate_data))\n",
    "evaluate_data.head()"
   ]
  },
  {
   "cell_type": "markdown",
   "metadata": {},
   "source": [
    "用training_data进行训练，导出关联规则（推荐规则）\n",
    "\n",
    "注：这里只是用置信度进行了排名，因为只是对评估函数进行测试，所以没有加入更多的排名方法。"
   ]
  },
  {
   "cell_type": "code",
   "execution_count": 209,
   "metadata": {},
   "outputs": [
    {
     "name": "stdout",
     "output_type": "stream",
     "text": [
      "<class 'generator'>\n",
      "-------------挖掘频繁项集---------------\n",
      "                 fluent_patterns   support\n",
      "0                         [6339]  0.170377\n",
      "1                 [102392, 6339]  0.088107\n",
      "2                 [139252, 6339]  0.090454\n",
      "3                   [8892, 6339]  0.093001\n",
      "4                 [130412, 6339]  0.081583\n",
      "5                   [5997, 6339]  0.096950\n",
      "6                   [3461, 6339]  0.083042\n",
      "7                [4316382, 6339]  0.070251\n",
      "8                   [8792, 6339]  0.070824\n",
      "9                   [5800, 6339]  0.077377\n",
      "10                  [6446, 6339]  0.073685\n",
      "11               [5267730, 6339]  0.092800\n",
      "12                [134932, 6339]  0.079609\n",
      "13                     [4316442]  0.148887\n",
      "14             [139252, 4316442]  0.101099\n",
      "15               [8892, 4316442]  0.087592\n",
      "16            [5267730, 4316442]  0.114491\n",
      "17    [139252, 5267730, 4316442]  0.086419\n",
      "18      [8892, 5267730, 4316442]  0.073113\n",
      "19             [130412, 4316442]  0.078206\n",
      "20            [4312482, 4316442]  0.070909\n",
      "21            [4316382, 4316442]  0.089853\n",
      "22    [139252, 4316382, 4316442]  0.071453\n",
      "23   [5267730, 4316382, 4316442]  0.081011\n",
      "24            [4316482, 4316442]  0.079523\n",
      "25             [102392, 4316442]  0.076633\n",
      "26             [134932, 4316442]  0.071882\n",
      "27                        [8752]  0.196217\n",
      "28                [139252, 8752]  0.093516\n",
      "29                  [8892, 8752]  0.124449\n",
      "..                           ...       ...\n",
      "729                 [5800, 5793]  0.072769\n",
      "730                       [6001]  0.111801\n",
      "731               [139252, 6001]  0.075488\n",
      "732                 [8892, 6001]  0.075230\n",
      "733                       [3398]  0.095776\n",
      "734                       [1539]  0.082642\n",
      "735                       [6425]  0.074572\n",
      "736                       [5776]  0.071453\n",
      "737                       [5058]  0.132919\n",
      "738              [4762734, 5058]  0.079752\n",
      "739                       [1733]  0.112288\n",
      "740                       [5069]  0.101471\n",
      "741                       [2680]  0.087907\n",
      "742                       [1588]  0.079952\n",
      "743                       [1177]  0.078893\n",
      "744                       [6402]  0.122589\n",
      "745                       [6360]  0.166514\n",
      "746               [102392, 6360]  0.090912\n",
      "747               [139252, 6360]  0.084874\n",
      "748                 [8892, 6360]  0.074773\n",
      "749              [5267730, 6360]  0.081297\n",
      "750                     [102312]  0.088909\n",
      "751                    [5912238]  0.072226\n",
      "752                       [3863]  0.071711\n",
      "753                       [5989]  0.088394\n",
      "754                        [687]  0.070967\n",
      "755                       [4188]  0.076890\n",
      "756                       [5070]  0.085732\n",
      "757                      [12872]  0.085761\n",
      "758                      [13032]  0.070795\n",
      "\n",
      "[759 rows x 2 columns]\n",
      "                                 rules_a                    rules_b  \\\n",
      "0    (130412, 5267730, 4316482, 4316382)                   (139252)   \n",
      "1             (5267730, 134912, 4316482)                   (139252)   \n",
      "2             (4316382, 139252, 4762754)                  (5267730)   \n",
      "3     (130412, 139252, 4316482, 4316382)                  (5267730)   \n",
      "4             (130412, 4316382, 4316482)                   (139252)   \n",
      "5                     (4316382, 4316442)                  (5267730)   \n",
      "6                     (4316382, 4762754)                  (5267730)   \n",
      "7                    (4316382, 21986963)                  (5267730)   \n",
      "8              (130412, 134912, 4316482)                   (139252)   \n",
      "9             (130412, 4316382, 4316482)                  (5267730)   \n",
      "10               (130412, 4316482, 8892)                   (139252)   \n",
      "11            (4316382, 139252, 4316482)                  (5267730)   \n",
      "12                    (4316382, 5267750)                  (5267730)   \n",
      "13              (5267730, 4316482, 8892)                   (139252)   \n",
      "14            (4316382, 139252, 4312482)                  (5267730)   \n",
      "15                              (140552)                   (135652)   \n",
      "16            (130412, 5267730, 4316482)                   (139252)   \n",
      "17             (4316382, 139252, 134912)                  (5267730)   \n",
      "18                    (139252, 21986963)                  (5267730)   \n",
      "19                   (4316382, 22718131)                  (5267730)   \n",
      "20               (4316382, 139252, 8892)                  (5267730)   \n",
      "21             (134932, 139252, 4316382)                  (5267730)   \n",
      "22           (4316382, 5267730, 4316482)                   (139252)   \n",
      "23             (130412, 134912, 4316382)                  (5267730)   \n",
      "24             (130412, 139252, 4316382)                  (5267730)   \n",
      "25               (130412, 4316382, 8892)                  (5267730)   \n",
      "26                    (4316382, 4316482)                  (5267730)   \n",
      "27                     (134912, 4316482)                   (139252)   \n",
      "28                    (4316382, 4312482)                  (5267730)   \n",
      "29                     (102252, 4316482)                   (139252)   \n",
      "..                                   ...                        ...   \n",
      "648                       (102392, 5997)                   (139252)   \n",
      "649                   (4316382, 4316482)  (130412, 139252, 5267730)   \n",
      "650                               (8792)                     (8892)   \n",
      "651                    (139252, 5267730)                  (4316482)   \n",
      "652                     (135652, 139252)                     (8892)   \n",
      "653                           (22503880)          (139252, 4316482)   \n",
      "654                            (4316382)                     (8892)   \n",
      "655                               (8992)                  (5267730)   \n",
      "656                       (139252, 8892)                   (102392)   \n",
      "657                       (134912, 8892)          (139252, 5267730)   \n",
      "658                       (134932, 8892)          (139252, 5267730)   \n",
      "659                               (8812)                   (102392)   \n",
      "660                               (6440)                   (139252)   \n",
      "661                             (102792)                   (139252)   \n",
      "662           (139252, 5267730, 4316482)          (130412, 4316382)   \n",
      "663                    (139252, 4312482)                  (5267750)   \n",
      "664                              (33512)                   (102392)   \n",
      "665                            (4316442)                  (4316382)   \n",
      "666                       (102252, 8792)                     (8892)   \n",
      "667                       (139252, 8792)                  (4316482)   \n",
      "668                            (4762734)                  (4312482)   \n",
      "669                              (78512)                   (139252)   \n",
      "670                       (102392, 5997)                     (5800)   \n",
      "671                   (4316382, 5267730)                  (4316482)   \n",
      "672                               (6446)                   (102392)   \n",
      "673                            (4312482)                  (5267730)   \n",
      "674                            (4316382)                   (130412)   \n",
      "675                            (5267750)                     (8892)   \n",
      "676                       (130412, 8892)                   (134912)   \n",
      "677                    (139252, 4312482)                 (22718131)   \n",
      "\n",
      "     confidence  \n",
      "0      0.917131  \n",
      "1      0.914160  \n",
      "2      0.913482  \n",
      "3      0.913060  \n",
      "4      0.901601  \n",
      "5      0.901592  \n",
      "6      0.899241  \n",
      "7      0.898454  \n",
      "8      0.898336  \n",
      "9      0.897598  \n",
      "10     0.896704  \n",
      "11     0.895863  \n",
      "12     0.891748  \n",
      "13     0.891562  \n",
      "14     0.889786  \n",
      "15     0.889169  \n",
      "16     0.888825  \n",
      "17     0.886629  \n",
      "18     0.886598  \n",
      "19     0.885870  \n",
      "20     0.884050  \n",
      "21     0.880499  \n",
      "22     0.877834  \n",
      "23     0.877113  \n",
      "24     0.875103  \n",
      "25     0.875080  \n",
      "26     0.868966  \n",
      "27     0.868790  \n",
      "28     0.868725  \n",
      "29     0.866123  \n",
      "..          ...  \n",
      "648    0.607960  \n",
      "649    0.607882  \n",
      "650    0.607857  \n",
      "651    0.607610  \n",
      "652    0.606954  \n",
      "653    0.606911  \n",
      "654    0.606169  \n",
      "655    0.605988  \n",
      "656    0.605481  \n",
      "657    0.605257  \n",
      "658    0.604856  \n",
      "659    0.604786  \n",
      "660    0.604704  \n",
      "661    0.604180  \n",
      "662    0.603718  \n",
      "663    0.603533  \n",
      "664    0.603516  \n",
      "665    0.603498  \n",
      "666    0.603229  \n",
      "667    0.603110  \n",
      "668    0.602688  \n",
      "669    0.602607  \n",
      "670    0.602470  \n",
      "671    0.602048  \n",
      "672    0.601927  \n",
      "673    0.601746  \n",
      "674    0.601371  \n",
      "675    0.601120  \n",
      "676    0.600654  \n",
      "677    0.600452  \n",
      "\n",
      "[678 rows x 3 columns]\n"
     ]
    }
   ],
   "source": [
    "\n",
    "data_list = list(training_data[\"value\"])\n",
    "frequent_itemsets = fpg.find_frequent_itemsets(data_list, minimum_support=0.07 * len(data_list), include_support=True)\n",
    "print(type(frequent_itemsets))  # print type\n",
    "result = []\n",
    "for itemset, support in frequent_itemsets:  # 将generator结果存入list\n",
    "    result.append((itemset, support / len(data_list)))\n",
    "\n",
    "result_patterns = [i[0] for i in result]\n",
    "result_support = [i[1] for i in result]\n",
    "patterns_df = pd.DataFrame({\"fluent_patterns\": result_patterns, \"support\": result_support})\n",
    "patterns = {}\n",
    "for i in result:\n",
    "    patterns[frozenset(sorted(i[0]))] = i[1]\n",
    "print(\"-------------挖掘频繁项集---------------\")\n",
    "print(patterns_df)\n",
    "\n",
    "def generate_rules(patterns, min_confidence):\n",
    "    patterns_group = group_patterns_by_length(patterns)\n",
    "    raw_rules = defaultdict(set)\n",
    "    for length, pattern_list in patterns_group.items():\n",
    "        if length == 1:\n",
    "            continue\n",
    "        for pattern, support in pattern_list:\n",
    "            item_list = list(pattern)\n",
    "            for window_size in range(1, length):\n",
    "                for i in range(0, length - window_size):\n",
    "                    for j in range(i + window_size, length):\n",
    "                        base_set = frozenset(item_list[i:j])\n",
    "                        predict_set = frozenset(pattern - base_set)\n",
    "                        confidence = support / patterns.get(base_set)\n",
    "                        if confidence > min_confidence:\n",
    "                            raw_rules[base_set].add((predict_set, confidence))\n",
    "\n",
    "                        base_set, predict_set = predict_set, base_set\n",
    "                        confidence = support / patterns.get(base_set)\n",
    "                        if confidence > min_confidence:\n",
    "                            raw_rules[base_set].add((predict_set, confidence))\n",
    "    return raw_rules\n",
    "\n",
    "def group_patterns_by_length(patterns):\n",
    "    result = defaultdict(list)\n",
    "    for pattern, support in patterns.items():\n",
    "        result[len(pattern)].append((pattern, support))\n",
    "    return result\n",
    "\n",
    "def transform(raw_rules):\n",
    "    result = list()\n",
    "    for base_set, predict_set_list in raw_rules.items():\n",
    "        for predict_set, confidence in predict_set_list:\n",
    "            result.append((base_set, predict_set, confidence))\n",
    "\n",
    "    return result\n",
    "raw_rules = generate_rules(patterns, 0.6)\n",
    "rules = transform(raw_rules)\n",
    "rules.sort(key=lambda x: x[2], reverse=True)\n",
    "rules_a = [i[0] for i in rules]\n",
    "rules_b = [i[1] for i in rules]\n",
    "confidence = [i[2] for i in rules]\n",
    "rules_df = pd.DataFrame({\"rules_a\": rules_a, \"rules_b\": rules_b, \"confidence\": confidence})\n",
    "print(rules_df)"
   ]
  },
  {
   "cell_type": "code",
   "execution_count": 210,
   "metadata": {},
   "outputs": [],
   "source": [
    "# 将规则转换为(rule_a,rule_b)的格式，根据rules的实际情况更改\n",
    "new_rule = []\n",
    "for a,b,c in rules:\n",
    "    new_rule.append([a,b])"
   ]
  },
  {
   "cell_type": "code",
   "execution_count": 211,
   "metadata": {},
   "outputs": [
    {
     "data": {
      "text/plain": [
       "[[frozenset({'130412', '4316382', '4316482', '5267730'}),\n",
       "  frozenset({'139252'})],\n",
       " [frozenset({'134912', '4316482', '5267730'}), frozenset({'139252'})],\n",
       " [frozenset({'139252', '4316382', '4762754'}), frozenset({'5267730'})],\n",
       " [frozenset({'130412', '139252', '4316382', '4316482'}),\n",
       "  frozenset({'5267730'})],\n",
       " [frozenset({'130412', '4316382', '4316482'}), frozenset({'139252'})]]"
      ]
     },
     "execution_count": 211,
     "metadata": {},
     "output_type": "execute_result"
    }
   ],
   "source": [
    "new_rule[:5]"
   ]
  },
  {
   "cell_type": "code",
   "execution_count": 212,
   "metadata": {},
   "outputs": [
    {
     "name": "stdout",
     "output_type": "stream",
     "text": [
      "0  rules miss\n"
     ]
    },
    {
     "data": {
      "text/plain": [
       "0.8567302328664756"
      ]
     },
     "execution_count": 212,
     "metadata": {},
     "output_type": "execute_result"
    }
   ],
   "source": [
    "# 计算前100条规则的平均准确率\n",
    "result = evaluate_association_rules(new_rule[:100],evaluate_data)\n",
    "result"
   ]
  },
  {
   "cell_type": "code",
   "execution_count": 213,
   "metadata": {},
   "outputs": [
    {
     "name": "stdout",
     "output_type": "stream",
     "text": [
      "0  rules miss\n"
     ]
    },
    {
     "data": {
      "text/plain": [
       "0.7807110490250396"
      ]
     },
     "execution_count": 213,
     "metadata": {},
     "output_type": "execute_result"
    }
   ],
   "source": [
    "# 计算第100到200条规则的平均准确率\n",
    "result = evaluate_association_rules(new_rule[100:200],evaluate_data)\n",
    "result"
   ]
  },
  {
   "cell_type": "code",
   "execution_count": 214,
   "metadata": {},
   "outputs": [
    {
     "name": "stdout",
     "output_type": "stream",
     "text": [
      "0  rules miss\n"
     ]
    },
    {
     "data": {
      "text/plain": [
       "0.73296587114293"
      ]
     },
     "execution_count": 214,
     "metadata": {},
     "output_type": "execute_result"
    }
   ],
   "source": [
    "# 计算第200到300条规则的平均准确率\n",
    "result = evaluate_association_rules(new_rule[200:300],evaluate_data)\n",
    "result"
   ]
  },
  {
   "cell_type": "code",
   "execution_count": 215,
   "metadata": {},
   "outputs": [
    {
     "name": "stdout",
     "output_type": "stream",
     "text": [
      "0  rules miss\n"
     ]
    },
    {
     "data": {
      "text/plain": [
       "0.7149250788211877"
      ]
     },
     "execution_count": 215,
     "metadata": {},
     "output_type": "execute_result"
    }
   ],
   "source": [
    "# 计算全部规则的平均准确率\n",
    "result = evaluate_association_rules(new_rule,evaluate_data)\n",
    "result"
   ]
  },
  {
   "cell_type": "markdown",
   "metadata": {},
   "source": [
    "分别对前100条规则、第100到200条规则、第200到300条规则、全部规则进行评估，\n",
    "发现使用靠近前面的规则进行推荐，平均准确率较高，证明了使用关联规则的置信度对规则进行排名有一定的优化效果。\n"
   ]
  }
 ],
 "metadata": {
  "kernelspec": {
   "display_name": "Python 3",
   "language": "python",
   "name": "python3"
  },
  "language_info": {
   "codemirror_mode": {
    "name": "ipython",
    "version": 3
   },
   "file_extension": ".py",
   "mimetype": "text/x-python",
   "name": "python",
   "nbconvert_exporter": "python",
   "pygments_lexer": "ipython3",
   "version": "3.7.1"
  }
 },
 "nbformat": 4,
 "nbformat_minor": 2
}
